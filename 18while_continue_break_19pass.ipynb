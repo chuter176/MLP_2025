{
  "nbformat": 4,
  "nbformat_minor": 0,
  "metadata": {
    "colab": {
      "provenance": [],
      "authorship_tag": "ABX9TyNKuCfh90VwZtBnAG43MDhg",
      "include_colab_link": true
    },
    "kernelspec": {
      "name": "python3",
      "display_name": "Python 3"
    },
    "language_info": {
      "name": "python"
    }
  },
  "cells": [
    {
      "cell_type": "markdown",
      "metadata": {
        "id": "view-in-github",
        "colab_type": "text"
      },
      "source": [
        "<a href=\"https://colab.research.google.com/github/chuter176/MLP_2025/blob/main/18while_continue_break_19pass.ipynb\" target=\"_parent\"><img src=\"https://colab.research.google.com/assets/colab-badge.svg\" alt=\"Open In Colab\"/></a>"
      ]
    },
    {
      "cell_type": "markdown",
      "source": [
        "while_continue_break"
      ],
      "metadata": {
        "id": "qQ592KBP6HUr"
      }
    },
    {
      "cell_type": "code",
      "execution_count": null,
      "metadata": {
        "id": "B8LAx5u95wTP"
      },
      "outputs": [],
      "source": [
        "while 조건:\n",
        "  조건이 참일 때 바복 실행 코드\n",
        "..\n",
        "continue   #while문 처음 이동하여 반복 실행코드 계속\n",
        "..\n",
        "break      #반복문 탈출"
      ]
    },
    {
      "cell_type": "code",
      "source": [
        "x=0\n",
        "while x < 10:\n",
        "  x += 1\n",
        "  if x < 3:\n",
        "    continue\n",
        "\n",
        "  print(x)\n",
        "  if x > 4:\n",
        "    break"
      ],
      "metadata": {
        "colab": {
          "base_uri": "https://localhost:8080/"
        },
        "id": "F0TIHXaz6nTy",
        "outputId": "8b7ecd0c-0eda-45fd-cf61-ae42698fe282"
      },
      "execution_count": 2,
      "outputs": [
        {
          "output_type": "stream",
          "name": "stdout",
          "text": [
            "3\n",
            "4\n",
            "5\n"
          ]
        }
      ]
    },
    {
      "cell_type": "code",
      "source": [
        "n = 1\n",
        "total = 0\n",
        "while True:\n",
        "  total = total + n\n",
        "  if total > 100000:\n",
        "    print('1+2+...+n 값이 10만 보다 커지게 되는 n:',n)\n",
        "    print('이때 총합은', total)\n",
        "    break\n",
        "  n = n + 1"
      ],
      "metadata": {
        "colab": {
          "base_uri": "https://localhost:8080/"
        },
        "id": "bTZ7vAEG69ya",
        "outputId": "2db60ca6-3450-4955-d647-c0bb1dac7b73"
      },
      "execution_count": 3,
      "outputs": [
        {
          "output_type": "stream",
          "name": "stdout",
          "text": [
            "1+2+...+n 값이 10만 보다 커지게 되는 n: 447\n",
            "이때 총합은 100128\n"
          ]
        }
      ]
    },
    {
      "cell_type": "markdown",
      "source": [
        "pass"
      ],
      "metadata": {
        "id": "U3r13Bwn8b6C"
      }
    },
    {
      "cell_type": "code",
      "source": [
        "for sport in ['축구','야구','배구','농구']:\n",
        "  if sport == '축구':\n",
        "    pass\n",
        "\n",
        "  if sport == '야구':\n",
        "    pass\n",
        ""
      ],
      "metadata": {
        "id": "O1FNMBBL8dFC"
      },
      "execution_count": 4,
      "outputs": []
    },
    {
      "cell_type": "code",
      "source": [
        "def getImageLink(url):\n",
        "  pass"
      ],
      "metadata": {
        "id": "k7WIggfU9CrK"
      },
      "execution_count": 5,
      "outputs": []
    }
  ]
}