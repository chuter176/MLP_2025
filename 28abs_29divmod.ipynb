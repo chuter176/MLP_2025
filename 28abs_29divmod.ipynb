{
  "nbformat": 4,
  "nbformat_minor": 0,
  "metadata": {
    "colab": {
      "provenance": [],
      "authorship_tag": "ABX9TyNq3x+GrVTiU/3Yb1dXSHGB",
      "include_colab_link": true
    },
    "kernelspec": {
      "name": "python3",
      "display_name": "Python 3"
    },
    "language_info": {
      "name": "python"
    }
  },
  "cells": [
    {
      "cell_type": "markdown",
      "metadata": {
        "id": "view-in-github",
        "colab_type": "text"
      },
      "source": [
        "<a href=\"https://colab.research.google.com/github/chuter176/MLP_2025/blob/main/28abs_29divmod.ipynb\" target=\"_parent\"><img src=\"https://colab.research.google.com/assets/colab-badge.svg\" alt=\"Open In Colab\"/></a>"
      ]
    },
    {
      "cell_type": "markdown",
      "source": [
        "abs\n",
        "\n"
      ],
      "metadata": {
        "id": "QAQx5q6pY7w9"
      }
    },
    {
      "cell_type": "code",
      "execution_count": 1,
      "metadata": {
        "colab": {
          "base_uri": "https://localhost:8080/"
        },
        "id": "KdxxZ7QCY5x2",
        "outputId": "90956710-36c8-4591-d0a9-60a2b3eacdb3"
      },
      "outputs": [
        {
          "output_type": "stream",
          "name": "stdout",
          "text": [
            "8\n",
            "3.14\n",
            "5.0\n"
          ]
        }
      ],
      "source": [
        "intData = -8\n",
        "floatData = 3.14\n",
        "complexData = 3 + 4j\n",
        "print(abs(intData))\n",
        "print(abs(floatData))\n",
        "print(abs((complexData)))"
      ]
    },
    {
      "cell_type": "markdown",
      "source": [
        "divmod"
      ],
      "metadata": {
        "id": "QBHo3AD1Zhxr"
      }
    },
    {
      "cell_type": "code",
      "source": [
        "x = 11113\n",
        "y = 23\n",
        "ret1 = x // y\n",
        "ret2 = x % y\n",
        "print(f'{x}을(를) {y}(으)로 나누면 몫이 {ret1},나머지가{ret2}입니다')"
      ],
      "metadata": {
        "colab": {
          "base_uri": "https://localhost:8080/"
        },
        "id": "CDbbVg6vZj--",
        "outputId": "47712952-5836-41cb-bb8d-905fb7156df1"
      },
      "execution_count": 2,
      "outputs": [
        {
          "output_type": "stream",
          "name": "stdout",
          "text": [
            "11113을(를) 23(으)로 나누면 몫이 483,나머지가4입니다\n"
          ]
        }
      ]
    },
    {
      "cell_type": "code",
      "source": [
        "x = 11113\n",
        "y = 23\n",
        "ret1, ret2 = divmod(x,y)\n",
        "print(f'{x}을(를) {y}(으)로 나누면 몫이 {ret1},나머지가{ret2}입니다')"
      ],
      "metadata": {
        "colab": {
          "base_uri": "https://localhost:8080/"
        },
        "id": "QknaMUirZ9zU",
        "outputId": "1a043d22-8dad-43e8-c42c-65a6aaf2c666"
      },
      "execution_count": 3,
      "outputs": [
        {
          "output_type": "stream",
          "name": "stdout",
          "text": [
            "11113을(를) 23(으)로 나누면 몫이 483,나머지가4입니다\n"
          ]
        }
      ]
    }
  ]
}