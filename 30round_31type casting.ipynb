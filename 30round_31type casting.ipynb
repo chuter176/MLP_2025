{
  "nbformat": 4,
  "nbformat_minor": 0,
  "metadata": {
    "colab": {
      "provenance": [],
      "authorship_tag": "ABX9TyNtp/hQKsJt6f5kmkAWOpKx",
      "include_colab_link": true
    },
    "kernelspec": {
      "name": "python3",
      "display_name": "Python 3"
    },
    "language_info": {
      "name": "python"
    }
  },
  "cells": [
    {
      "cell_type": "markdown",
      "metadata": {
        "id": "view-in-github",
        "colab_type": "text"
      },
      "source": [
        "<a href=\"https://colab.research.google.com/github/chuter176/MLP_2025/blob/main/30round_31type%20casting.ipynb\" target=\"_parent\"><img src=\"https://colab.research.google.com/assets/colab-badge.svg\" alt=\"Open In Colab\"/></a>"
      ]
    },
    {
      "cell_type": "markdown",
      "source": [
        "round"
      ],
      "metadata": {
        "id": "XZ7AFSLj9alD"
      }
    },
    {
      "cell_type": "code",
      "execution_count": 1,
      "metadata": {
        "colab": {
          "base_uri": "https://localhost:8080/"
        },
        "id": "gGNiXON69aDE",
        "outputId": "32e6fb37-0388-4fc3-902e-24cd3cc0a46e"
      },
      "outputs": [
        {
          "output_type": "stream",
          "name": "stdout",
          "text": [
            "42\n"
          ]
        }
      ],
      "source": [
        "ret = round(42.195)\n",
        "print(ret)"
      ]
    },
    {
      "cell_type": "code",
      "source": [
        "ret = round(42.195,0)\n",
        "print(ret)"
      ],
      "metadata": {
        "colab": {
          "base_uri": "https://localhost:8080/"
        },
        "id": "hvwl_lX79ka0",
        "outputId": "2974218a-21b6-4f84-ef32-036b0261597b"
      },
      "execution_count": 3,
      "outputs": [
        {
          "output_type": "stream",
          "name": "stdout",
          "text": [
            "42.0\n"
          ]
        }
      ]
    },
    {
      "cell_type": "code",
      "source": [
        "ret = round(42.195,1)\n",
        "print(ret)"
      ],
      "metadata": {
        "colab": {
          "base_uri": "https://localhost:8080/"
        },
        "id": "hGNMX6P59whs",
        "outputId": "4af4732e-e77c-4ced-98e3-5347862ee144"
      },
      "execution_count": 4,
      "outputs": [
        {
          "output_type": "stream",
          "name": "stdout",
          "text": [
            "42.2\n"
          ]
        }
      ]
    },
    {
      "cell_type": "code",
      "source": [
        "ret = round(42.195,-1)\n",
        "print(ret)"
      ],
      "metadata": {
        "colab": {
          "base_uri": "https://localhost:8080/"
        },
        "id": "adfo4Vj09zi5",
        "outputId": "e0f9aabb-a42a-4dc7-b8fb-517bf57416c7"
      },
      "execution_count": 5,
      "outputs": [
        {
          "output_type": "stream",
          "name": "stdout",
          "text": [
            "40.0\n"
          ]
        }
      ]
    },
    {
      "cell_type": "markdown",
      "source": [
        "type casting"
      ],
      "metadata": {
        "id": "OI27A85894CL"
      }
    },
    {
      "cell_type": "code",
      "source": [
        "floatData = 1234.5\n",
        "intData = int(floatData)\n",
        "print(f'intData{intData}자료형은{type(intData)}입니다.')"
      ],
      "metadata": {
        "colab": {
          "base_uri": "https://localhost:8080/"
        },
        "id": "JpUbh5C7-Exp",
        "outputId": "cc423a8a-ccdb-4c7d-a085-45fb4fabe311"
      },
      "execution_count": 8,
      "outputs": [
        {
          "output_type": "stream",
          "name": "stdout",
          "text": [
            "intData1234자료형은<class 'int'>입니다.\n"
          ]
        }
      ]
    },
    {
      "cell_type": "code",
      "source": [
        "strData = '1234'\n",
        "intData = int(strData)\n",
        "print(f'intData{intData}자료형은{type(intData)}입니다.')"
      ],
      "metadata": {
        "colab": {
          "base_uri": "https://localhost:8080/"
        },
        "id": "C92fQuN8-yT0",
        "outputId": "a5f42438-4084-45d9-f838-eb60257e7f3d"
      },
      "execution_count": 9,
      "outputs": [
        {
          "output_type": "stream",
          "name": "stdout",
          "text": [
            "intData1234자료형은<class 'int'>입니다.\n"
          ]
        }
      ]
    },
    {
      "cell_type": "code",
      "source": [
        "strData = '1234.5'\n",
        "intData = int(strData)"
      ],
      "metadata": {
        "colab": {
          "base_uri": "https://localhost:8080/",
          "height": 166
        },
        "id": "8h6heHUgAoY7",
        "outputId": "7d46625f-7375-430d-d3ea-ef9a1f014a09"
      },
      "execution_count": 13,
      "outputs": [
        {
          "output_type": "error",
          "ename": "ValueError",
          "evalue": "invalid literal for int() with base 10: '1234.5'",
          "traceback": [
            "\u001b[0;31m---------------------------------------------------------------------------\u001b[0m",
            "\u001b[0;31mValueError\u001b[0m                                Traceback (most recent call last)",
            "\u001b[0;32m/tmp/ipython-input-3767622251.py\u001b[0m in \u001b[0;36m<cell line: 0>\u001b[0;34m()\u001b[0m\n\u001b[1;32m      1\u001b[0m \u001b[0mstrData\u001b[0m \u001b[0;34m=\u001b[0m \u001b[0;34m'1234.5'\u001b[0m\u001b[0;34m\u001b[0m\u001b[0;34m\u001b[0m\u001b[0m\n\u001b[0;32m----> 2\u001b[0;31m \u001b[0mintData\u001b[0m \u001b[0;34m=\u001b[0m \u001b[0mint\u001b[0m\u001b[0;34m(\u001b[0m\u001b[0mstrData\u001b[0m\u001b[0;34m)\u001b[0m\u001b[0;34m\u001b[0m\u001b[0;34m\u001b[0m\u001b[0m\n\u001b[0m",
            "\u001b[0;31mValueError\u001b[0m: invalid literal for int() with base 10: '1234.5'"
          ]
        }
      ]
    },
    {
      "cell_type": "code",
      "source": [
        "strData = '1234.5'\n",
        "floatData = float(strData)\n",
        "print(f'floatData {floatData} 자료형은 {type(floatData)}입니다')"
      ],
      "metadata": {
        "colab": {
          "base_uri": "https://localhost:8080/"
        },
        "id": "rvNDlBDQBVED",
        "outputId": "813f9e89-3b53-44e1-a394-c12bdd584534"
      },
      "execution_count": 14,
      "outputs": [
        {
          "output_type": "stream",
          "name": "stdout",
          "text": [
            "floatData 1234.5 자료형은 <class 'float'>입니다\n"
          ]
        }
      ]
    },
    {
      "cell_type": "code",
      "source": [
        "print(float('2E5'))\n",
        "print(float('2e-3'))"
      ],
      "metadata": {
        "colab": {
          "base_uri": "https://localhost:8080/"
        },
        "id": "aTMxf4ksBz7r",
        "outputId": "8a4b9efd-a868-440c-b00d-6a22e41013eb"
      },
      "execution_count": 15,
      "outputs": [
        {
          "output_type": "stream",
          "name": "stdout",
          "text": [
            "200000.0\n",
            "0.002\n"
          ]
        }
      ]
    },
    {
      "cell_type": "code",
      "source": [
        "intData = 1234; strData1 = str(intData)\n",
        "floatData1 = 1234.5; strData2 = str(floatData1)\n",
        "floatData2 = 1e-3; strData3 = str(floatData2)\n",
        "print(f'정수 {intData} = > 문자열 {strData1},{type(strData1)}')\n",
        "print(f'실수 {floatData1} = > 문자열 {strData2},{type(strData2)}')\n",
        "print(f'실수 {floatData2} = > 문자열 {strData3},{type(strData3)}')"
      ],
      "metadata": {
        "colab": {
          "base_uri": "https://localhost:8080/"
        },
        "id": "uWP-U1KpCCmx",
        "outputId": "c9ee9183-3e84-469d-9136-94ad73649535"
      },
      "execution_count": 16,
      "outputs": [
        {
          "output_type": "stream",
          "name": "stdout",
          "text": [
            "정수 1234 = > 문자열 1234,<class 'str'>\n",
            "실수 1234.5 = > 문자열 1234.5,<class 'str'>\n",
            "실수 0.001 = > 문자열 0.001,<class 'str'>\n"
          ]
        }
      ]
    }
  ]
}