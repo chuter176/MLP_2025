{
  "nbformat": 4,
  "nbformat_minor": 0,
  "metadata": {
    "colab": {
      "provenance": [],
      "authorship_tag": "ABX9TyMqajR7DasiEo5Wy7AD6bve",
      "include_colab_link": true
    },
    "kernelspec": {
      "name": "python3",
      "display_name": "Python 3"
    },
    "language_info": {
      "name": "python"
    }
  },
  "cells": [
    {
      "cell_type": "markdown",
      "metadata": {
        "id": "view-in-github",
        "colab_type": "text"
      },
      "source": [
        "<a href=\"https://colab.research.google.com/github/chuter176/MLP_2025/blob/main/20match_21Numericaloperators.ipynb\" target=\"_parent\"><img src=\"https://colab.research.google.com/assets/colab-badge.svg\" alt=\"Open In Colab\"/></a>"
      ]
    },
    {
      "cell_type": "markdown",
      "source": [
        "match"
      ],
      "metadata": {
        "id": "Of6sA_EIRaXS"
      }
    },
    {
      "cell_type": "code",
      "execution_count": 1,
      "metadata": {
        "colab": {
          "base_uri": "https://localhost:8080/"
        },
        "id": "6XfqeP7JRYo-",
        "outputId": "cd30cca9-c1c4-441f-bcff-cf45c8c351c6"
      },
      "outputs": [
        {
          "output_type": "stream",
          "name": "stdout",
          "text": [
            "Bad Request\n"
          ]
        }
      ],
      "source": [
        "http_status = 400\n",
        "match http_status:\n",
        "  case 400:\n",
        "    print('Bad Request')\n",
        "  case 401:\n",
        "    print('Unauthorized')\n",
        "  case 403:\n",
        "    print('Forbidden')\n",
        "  case 404:\n",
        "    print('Not Found')\n",
        "  case _:\n",
        "    print('기타 인터넷 문제로 뭔가 잘못됨')"
      ]
    },
    {
      "cell_type": "code",
      "source": [
        "http_status = 302\n",
        "match http_status:\n",
        "  case 201 | 202 | 203:\n",
        "    print('Success')\n",
        "  case 301 | 302 | 303:\n",
        "    print('Redirection')\n",
        "  case 400 | 401 | 403 | 404:\n",
        "    print('Client Errors')\n",
        "  case _:\n",
        "    print('기타 HTTP 응답 코드')"
      ],
      "metadata": {
        "colab": {
          "base_uri": "https://localhost:8080/"
        },
        "id": "aYq81ANeSJIa",
        "outputId": "ae6009fa-e354-4210-da65-00955251cd63"
      },
      "execution_count": 4,
      "outputs": [
        {
          "output_type": "stream",
          "name": "stdout",
          "text": [
            "Redirection\n"
          ]
        }
      ]
    },
    {
      "cell_type": "code",
      "source": [
        "point = (0,0)\n",
        "#point = (1,0)\n",
        "#point = (0,1)\n",
        "#point = (1,1)\n",
        "match point:\n",
        "  case (0,0):\n",
        "    print('원점 좌표')\n",
        "  case (x,0):\n",
        "    print(f'x축 위의 점이며 x의 값은 {x}')\n",
        "  case (x,0):\n",
        "    print(f'y축 위의 점이며 y의 값은 {y}')\n",
        "  case (x,y):\n",
        "    print(f'(x,y) = ({x},{y})')\n",
        "  case _:\n",
        "    print('오류: 2차원 좌표가 아님')"
      ],
      "metadata": {
        "colab": {
          "base_uri": "https://localhost:8080/"
        },
        "id": "lvJxuDDjTK7-",
        "outputId": "5d1bd0e1-e7b4-4724-c3aa-3b7a72c7d114"
      },
      "execution_count": 6,
      "outputs": [
        {
          "output_type": "stream",
          "name": "stdout",
          "text": [
            "원점 좌표\n"
          ]
        }
      ]
    },
    {
      "cell_type": "markdown",
      "source": [
        "Numerical operators"
      ],
      "metadata": {
        "id": "aVCpRKRlUnVW"
      }
    },
    {
      "cell_type": "code",
      "source": [
        "x = 2\n",
        "y = 4\n",
        "print(x * y )\n",
        "print(x / y)\n",
        "print(x ** y)"
      ],
      "metadata": {
        "colab": {
          "base_uri": "https://localhost:8080/"
        },
        "id": "Ac5KV8d3UoRA",
        "outputId": "6fe5b7c1-64cc-478c-c7db-25d5d21a540f"
      },
      "execution_count": 7,
      "outputs": [
        {
          "output_type": "stream",
          "name": "stdout",
          "text": [
            "8\n",
            "0.5\n",
            "16\n"
          ]
        }
      ]
    },
    {
      "cell_type": "code",
      "source": [
        "x = 5\n",
        "y = 2\n",
        "print(x // y)     #5를 2로 나눈 몫\n",
        "print(x % y)      #5를 2로 나눈 나머지"
      ],
      "metadata": {
        "colab": {
          "base_uri": "https://localhost:8080/"
        },
        "id": "oADhyT5HU22b",
        "outputId": "da01b4b9-7de6-49e8-d7a1-e879153402dc"
      },
      "execution_count": 9,
      "outputs": [
        {
          "output_type": "stream",
          "name": "stdout",
          "text": [
            "2\n",
            "1\n"
          ]
        }
      ]
    }
  ]
}