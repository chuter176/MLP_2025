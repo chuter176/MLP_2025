{
  "nbformat": 4,
  "nbformat_minor": 0,
  "metadata": {
    "colab": {
      "provenance": [],
      "authorship_tag": "ABX9TyO3Mz6G/NbW4CJgBnwG9ZMq",
      "include_colab_link": true
    },
    "kernelspec": {
      "name": "python3",
      "display_name": "Python 3"
    },
    "language_info": {
      "name": "python"
    }
  },
  "cells": [
    {
      "cell_type": "markdown",
      "metadata": {
        "id": "view-in-github",
        "colab_type": "text"
      },
      "source": [
        "<a href=\"https://colab.research.google.com/github/chuter176/MLP_2025/blob/main/12indention_13None%20constant.ipynb\" target=\"_parent\"><img src=\"https://colab.research.google.com/assets/colab-badge.svg\" alt=\"Open In Colab\"/></a>"
      ]
    },
    {
      "cell_type": "markdown",
      "source": [
        "indentation"
      ],
      "metadata": {
        "id": "A8SWsbTHN5tF"
      }
    },
    {
      "cell_type": "code",
      "execution_count": 1,
      "metadata": {
        "colab": {
          "base_uri": "https://localhost:8080/"
        },
        "id": "Oeu2Th22N2aO",
        "outputId": "17e5db8c-9780-4a06-c96e-43282c129b4b"
      },
      "outputs": [
        {
          "output_type": "stream",
          "name": "stdout",
          "text": [
            "\"a\"가 listData에 요소로 존재합니다.\n"
          ]
        }
      ],
      "source": [
        "listData = ['a','b','c']\n",
        "if 'a' in listData:\n",
        "  print('\"a\"가 listData에 요소로 존재합니다.')\n",
        "else:\n",
        "  print('\"a\"가 listData에 요소로 존제하지 않습니다.')"
      ]
    },
    {
      "cell_type": "code",
      "source": [
        "listData = ['a','b','c']\n",
        "if 'a' in listData: print('\"a\"가 listData에 요소로 존재합니다.')"
      ],
      "metadata": {
        "colab": {
          "base_uri": "https://localhost:8080/"
        },
        "id": "eNbrseS5P2AE",
        "outputId": "fe9a6dbc-4e00-4b5f-d830-e37b25e36a7a"
      },
      "execution_count": 2,
      "outputs": [
        {
          "output_type": "stream",
          "name": "stdout",
          "text": [
            "\"a\"가 listData에 요소로 존재합니다.\n"
          ]
        }
      ]
    },
    {
      "cell_type": "code",
      "source": [
        "if 'a' in listData:\n",
        "\n",
        ""
      ],
      "metadata": {
        "colab": {
          "base_uri": "https://localhost:8080/",
          "height": 110
        },
        "id": "I_TWqRV_Q3XL",
        "outputId": "3a11b84b-f6be-45a8-ef9e-62b745db9ad7"
      },
      "execution_count": 17,
      "outputs": [
        {
          "output_type": "error",
          "ename": "SyntaxError",
          "evalue": "incomplete input (ipython-input-2703364466.py, line 3)",
          "traceback": [
            "\u001b[0;36m  File \u001b[0;32m\"/tmp/ipython-input-2703364466.py\"\u001b[0;36m, line \u001b[0;32m3\u001b[0m\n\u001b[0;31m    \u001b[0m\n\u001b[0m    ^\u001b[0m\n\u001b[0;31mSyntaxError\u001b[0m\u001b[0;31m:\u001b[0m incomplete input\n"
          ]
        }
      ]
    },
    {
      "cell_type": "code",
      "source": [
        "    listData = ['a','b','c']\n",
        "if 'a' in listData:\n",
        "  print('\"a\"가 listData에 요소로 존제합니다')\n",
        "else:\n",
        "  print('\"a\"가 listData에 요소로 존제하지 않습니다')"
      ],
      "metadata": {
        "colab": {
          "base_uri": "https://localhost:8080/"
        },
        "id": "c_T4PPveRTPc",
        "outputId": "037d3fdb-2ad9-4fc6-a106-c07a5a837c4d"
      },
      "execution_count": 12,
      "outputs": [
        {
          "output_type": "stream",
          "name": "stdout",
          "text": [
            "\"a\"가 listData에 요소로 존제합니다\n"
          ]
        }
      ]
    },
    {
      "cell_type": "code",
      "source": [
        "listData = ['a','b','c']\n",
        "if 'a' in listData:\n",
        "  print('\"a\"가 listData에 요소로 존제합니다')\n",
        "   print('프로그램을 종료합니다')\n",
        "else:\n",
        "  print('\"a\"가 listData에 요소로 존제하지 않습니다.')"
      ],
      "metadata": {
        "colab": {
          "base_uri": "https://localhost:8080/",
          "height": 110
        },
        "id": "16IwQeOsTUkL",
        "outputId": "b0d58c8b-0a87-43f8-af73-55a9bbb82938"
      },
      "execution_count": 16,
      "outputs": [
        {
          "output_type": "error",
          "ename": "IndentationError",
          "evalue": "unexpected indent (ipython-input-4272696914.py, line 4)",
          "traceback": [
            "\u001b[0;36m  File \u001b[0;32m\"/tmp/ipython-input-4272696914.py\"\u001b[0;36m, line \u001b[0;32m4\u001b[0m\n\u001b[0;31m    print('프로그램을 종료합니다')\u001b[0m\n\u001b[0m    ^\u001b[0m\n\u001b[0;31mIndentationError\u001b[0m\u001b[0;31m:\u001b[0m unexpected indent\n"
          ]
        }
      ]
    },
    {
      "cell_type": "markdown",
      "source": [
        "None constant"
      ],
      "metadata": {
        "id": "MWAF-3bPVKHV"
      }
    },
    {
      "cell_type": "code",
      "source": [
        "val = None\n",
        "flag = True\n",
        "if flag:\n",
        "  val = [1,2,3,4,5]\n",
        "else:\n",
        "  val = '안녕하세요 파이썬!'"
      ],
      "metadata": {
        "id": "Zd8N1rcrVQ97"
      },
      "execution_count": 18,
      "outputs": []
    }
  ]
}