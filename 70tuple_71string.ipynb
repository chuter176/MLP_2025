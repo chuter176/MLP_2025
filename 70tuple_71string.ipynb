{
  "nbformat": 4,
  "nbformat_minor": 0,
  "metadata": {
    "colab": {
      "provenance": [],
      "authorship_tag": "ABX9TyNebY83gXKzMgBGvkXWJTab",
      "include_colab_link": true
    },
    "kernelspec": {
      "name": "python3",
      "display_name": "Python 3"
    },
    "language_info": {
      "name": "python"
    }
  },
  "cells": [
    {
      "cell_type": "markdown",
      "metadata": {
        "id": "view-in-github",
        "colab_type": "text"
      },
      "source": [
        "<a href=\"https://colab.research.google.com/github/chuter176/MLP_2025/blob/main/70tuple_71string.ipynb\" target=\"_parent\"><img src=\"https://colab.research.google.com/assets/colab-badge.svg\" alt=\"Open In Colab\"/></a>"
      ]
    },
    {
      "cell_type": "markdown",
      "source": [
        "tuple"
      ],
      "metadata": {
        "id": "N4QYfZLI5lRn"
      }
    },
    {
      "cell_type": "code",
      "execution_count": 3,
      "metadata": {
        "colab": {
          "base_uri": "https://localhost:8080/"
        },
        "id": "gHTG3UDi5aGT",
        "outputId": "2d6d28b8-7158-4ea6-bd45-ccc16be2e2f7"
      },
      "outputs": [
        {
          "output_type": "stream",
          "name": "stdout",
          "text": [
            "(1, 'two', '셋')\n"
          ]
        }
      ],
      "source": [
        "tupleData = 1,'two','셋'\n",
        "print(tupleData)"
      ]
    },
    {
      "cell_type": "code",
      "source": [
        "tupleData = (1,'two','셋')\n",
        "print(tupleData)"
      ],
      "metadata": {
        "colab": {
          "base_uri": "https://localhost:8080/"
        },
        "id": "uTJl5Ivw5xKT",
        "outputId": "7146c8ae-4942-4a00-a5a1-58764350eec3"
      },
      "execution_count": 4,
      "outputs": [
        {
          "output_type": "stream",
          "name": "stdout",
          "text": [
            "(1, 'two', '셋')\n"
          ]
        }
      ]
    },
    {
      "cell_type": "code",
      "source": [
        "x,y,z = tupleData\n",
        "print(f'x={x},y={y},z={z}')"
      ],
      "metadata": {
        "colab": {
          "base_uri": "https://localhost:8080/"
        },
        "id": "43Vu8I_45-gT",
        "outputId": "4a2981a1-6d16-4f07-cbbf-48948a7f5916"
      },
      "execution_count": 5,
      "outputs": [
        {
          "output_type": "stream",
          "name": "stdout",
          "text": [
            "x=1,y=two,z=셋\n"
          ]
        }
      ]
    },
    {
      "cell_type": "code",
      "source": [
        "tupleDara = (0,1,2,3,4)\n",
        "tupleData[3] = 'Three'"
      ],
      "metadata": {
        "colab": {
          "base_uri": "https://localhost:8080/",
          "height": 166
        },
        "id": "KAQQ1sLi6MUk",
        "outputId": "aaa51fd5-4c45-4a97-cf98-a4dc7e9a0ac4"
      },
      "execution_count": 6,
      "outputs": [
        {
          "output_type": "error",
          "ename": "TypeError",
          "evalue": "'tuple' object does not support item assignment",
          "traceback": [
            "\u001b[0;31m---------------------------------------------------------------------------\u001b[0m",
            "\u001b[0;31mTypeError\u001b[0m                                 Traceback (most recent call last)",
            "\u001b[0;32m/tmp/ipython-input-3550572294.py\u001b[0m in \u001b[0;36m<cell line: 0>\u001b[0;34m()\u001b[0m\n\u001b[1;32m      1\u001b[0m \u001b[0mtupleDara\u001b[0m \u001b[0;34m=\u001b[0m \u001b[0;34m(\u001b[0m\u001b[0;36m0\u001b[0m\u001b[0;34m,\u001b[0m\u001b[0;36m1\u001b[0m\u001b[0;34m,\u001b[0m\u001b[0;36m2\u001b[0m\u001b[0;34m,\u001b[0m\u001b[0;36m3\u001b[0m\u001b[0;34m,\u001b[0m\u001b[0;36m4\u001b[0m\u001b[0;34m)\u001b[0m\u001b[0;34m\u001b[0m\u001b[0;34m\u001b[0m\u001b[0m\n\u001b[0;32m----> 2\u001b[0;31m \u001b[0mtupleData\u001b[0m\u001b[0;34m[\u001b[0m\u001b[0;36m3\u001b[0m\u001b[0;34m]\u001b[0m \u001b[0;34m=\u001b[0m \u001b[0;34m'Three'\u001b[0m\u001b[0;34m\u001b[0m\u001b[0;34m\u001b[0m\u001b[0m\n\u001b[0m",
            "\u001b[0;31mTypeError\u001b[0m: 'tuple' object does not support item assignment"
          ]
        }
      ]
    },
    {
      "cell_type": "markdown",
      "source": [
        "string"
      ],
      "metadata": {
        "id": "x76TrI9Q6bV6"
      }
    },
    {
      "cell_type": "code",
      "source": [
        "strData1 = '안녕하세요'\n",
        "strData2 = '작은따옴표는 \"큰따옴표\"를 포함하는 문자열이 가능합니다.'\n",
        "print(strData1)\n",
        "print(strData2)"
      ],
      "metadata": {
        "colab": {
          "base_uri": "https://localhost:8080/"
        },
        "id": "VJifkePo6VTz",
        "outputId": "4fe34d16-d752-4f1f-8399-8c27241de43e"
      },
      "execution_count": 7,
      "outputs": [
        {
          "output_type": "stream",
          "name": "stdout",
          "text": [
            "안녕하세요\n",
            "작은따옴표는 \"큰따옴표\"를 포함하는 문자열이 가능합니다.\n"
          ]
        }
      ]
    },
    {
      "cell_type": "code",
      "source": [
        "strData3 = \"안녕하세요\"\n",
        "strData4 = \"큰따옴표는 '작은따옴표'를 포함하는 문자열이 가능합니다.\"\n",
        "print(strData3)\n",
        "print(strData4)"
      ],
      "metadata": {
        "colab": {
          "base_uri": "https://localhost:8080/"
        },
        "id": "OKiNN8Gp6vBm",
        "outputId": "d4869e19-d67b-45e8-e0a9-fcc972e1c54b"
      },
      "execution_count": 8,
      "outputs": [
        {
          "output_type": "stream",
          "name": "stdout",
          "text": [
            "안녕하세요\n",
            "큰따옴표는 '작은따옴표'를 포함하는 문자열이 가능합니다.\n"
          ]
        }
      ]
    },
    {
      "cell_type": "code",
      "source": [
        "strData5 = '''3중 작은따옴표는\n",
        "여러 줄에 걸친 문자열이 가능합니다.'''\n",
        "print(strData5)"
      ],
      "metadata": {
        "colab": {
          "base_uri": "https://localhost:8080/"
        },
        "id": "4EfMo0Cd7GZh",
        "outputId": "9b080176-f7a7-4bab-cf70-68f2c9ed5496"
      },
      "execution_count": 9,
      "outputs": [
        {
          "output_type": "stream",
          "name": "stdout",
          "text": [
            "3중 작은따옴표는\n",
            "여러 줄에 걸친 문자열이 가능합니다.\n"
          ]
        }
      ]
    },
    {
      "cell_type": "code",
      "source": [
        "strData6 = \"\"\"3중 큰따옴표 역시\n",
        "여러 줄에 걸친 문자열이 가능합니다.\"\"\"\n",
        "print(strData6)"
      ],
      "metadata": {
        "colab": {
          "base_uri": "https://localhost:8080/"
        },
        "id": "Z6aZV7yY7Yz5",
        "outputId": "b70ced4d-bfb7-4c4b-d016-9214db3acd4f"
      },
      "execution_count": 10,
      "outputs": [
        {
          "output_type": "stream",
          "name": "stdout",
          "text": [
            "3중 큰따옴표 역시 \n",
            "여러 줄에 걸친 문자열이 가능합니다.\n"
          ]
        }
      ]
    },
    {
      "cell_type": "code",
      "source": [
        "while ret !=None:\n",
        "  \"\"\"print(f'큐에서 데이터 추출:{ret}')\n",
        "  print(f'큐상태:{myqueue}')\n",
        "  print('---------')\"\"\"                             #여러 줄의 주석처리 예\n",
        "  ret = popData()"
      ],
      "metadata": {
        "id": "EjZmnVKX7kM4"
      },
      "execution_count": null,
      "outputs": []
    }
  ]
}