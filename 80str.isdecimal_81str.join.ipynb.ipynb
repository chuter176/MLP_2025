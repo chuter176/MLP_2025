{
  "nbformat": 4,
  "nbformat_minor": 0,
  "metadata": {
    "colab": {
      "provenance": [],
      "authorship_tag": "ABX9TyP800TfzvDxJ1yCHgDjx965",
      "include_colab_link": true
    },
    "kernelspec": {
      "name": "python3",
      "display_name": "Python 3"
    },
    "language_info": {
      "name": "python"
    }
  },
  "cells": [
    {
      "cell_type": "markdown",
      "metadata": {
        "id": "view-in-github",
        "colab_type": "text"
      },
      "source": [
        "<a href=\"https://colab.research.google.com/github/chuter176/MLP_2025/blob/main/80str.isdecimal_81str.join.ipynb.ipynb\" target=\"_parent\"><img src=\"https://colab.research.google.com/assets/colab-badge.svg\" alt=\"Open In Colab\"/></a>"
      ]
    },
    {
      "cell_type": "markdown",
      "source": [
        "str.isdecimal"
      ],
      "metadata": {
        "id": "781yu1DGs4A1"
      }
    },
    {
      "cell_type": "code",
      "execution_count": null,
      "metadata": {
        "id": "qpDIBBrIs2QY"
      },
      "outputs": [],
      "source": [
        "numbers = ['1004','-1','3.14','IX','⅞','5²','50%']"
      ]
    },
    {
      "cell_type": "code",
      "source": [
        "for number in numbers:\n",
        "  print(f'\"{number}\" \\t--> {number.isdecimal()}')"
      ],
      "metadata": {
        "colab": {
          "base_uri": "https://localhost:8080/"
        },
        "id": "_Mw3X9Yrul4B",
        "outputId": "d30a78ba-bd85-4774-e255-2bb222398530"
      },
      "execution_count": null,
      "outputs": [
        {
          "output_type": "stream",
          "name": "stdout",
          "text": [
            "\"1004\" \t--> True\n",
            "\"-1\" \t--> False\n",
            "\"3.14\" \t--> False\n",
            "\"IX\" \t--> False\n",
            "\"⅞\" \t--> False\n",
            "\"5²\" \t--> False\n",
            "\"50%\" \t--> False\n"
          ]
        }
      ]
    },
    {
      "cell_type": "code",
      "source": [
        "for number in numbers:\n",
        "  print(f'\"{number}\" \\t--> {number.isdigit()}')"
      ],
      "metadata": {
        "colab": {
          "base_uri": "https://localhost:8080/"
        },
        "id": "vznajzuqyoln",
        "outputId": "47b256ce-17fd-464a-8749-851e3fbee1c5"
      },
      "execution_count": null,
      "outputs": [
        {
          "output_type": "stream",
          "name": "stdout",
          "text": [
            "\"1004\" \t--> True\n",
            "\"-1\" \t--> False\n",
            "\"3.14\" \t--> False\n",
            "\"IX\" \t--> False\n",
            "\"⅞\" \t--> False\n",
            "\"5²\" \t--> True\n",
            "\"50%\" \t--> False\n"
          ]
        }
      ]
    },
    {
      "cell_type": "code",
      "source": [
        "for number in numbers:\n",
        "  print(f'\"{number}\" \\t--> {number.isnumeric()}')"
      ],
      "metadata": {
        "colab": {
          "base_uri": "https://localhost:8080/"
        },
        "id": "xc1BSv2vzAse",
        "outputId": "9eee6291-4de9-4d1e-d1d7-1f8e697bb1d7"
      },
      "execution_count": null,
      "outputs": [
        {
          "output_type": "stream",
          "name": "stdout",
          "text": [
            "\"1004\" \t--> True\n",
            "\"-1\" \t--> False\n",
            "\"3.14\" \t--> False\n",
            "\"IX\" \t--> False\n",
            "\"⅞\" \t--> True\n",
            "\"5²\" \t--> True\n",
            "\"50%\" \t--> False\n"
          ]
        }
      ]
    },
    {
      "cell_type": "markdown",
      "source": [
        "str.join"
      ],
      "metadata": {
        "id": "-2j8GHE0zNG-"
      }
    },
    {
      "cell_type": "code",
      "source": [
        "profile = ['홍길동','남자','18세','도적','초능력자']\n",
        "logData = ','.join(profile)\n",
        "print(logData)"
      ],
      "metadata": {
        "colab": {
          "base_uri": "https://localhost:8080/"
        },
        "id": "h7Shb6SOzQHU",
        "outputId": "507cec21-4441-41e9-e1ec-8180cc148f60"
      },
      "execution_count": null,
      "outputs": [
        {
          "output_type": "stream",
          "name": "stdout",
          "text": [
            "홍길동,남자,18세,도적,초능력자\n"
          ]
        }
      ]
    },
    {
      "cell_type": "code",
      "source": [
        "profile = ['홍길동','남자',18,'도적','초능력자']\n",
        "logData = ';'.join(profile)"
      ],
      "metadata": {
        "colab": {
          "base_uri": "https://localhost:8080/",
          "height": 166
        },
        "id": "CG9mPI06zyew",
        "outputId": "4e2bf50d-128e-4f0d-a0ab-687b047b0217"
      },
      "execution_count": null,
      "outputs": [
        {
          "output_type": "error",
          "ename": "TypeError",
          "evalue": "sequence item 2: expected str instance, int found",
          "traceback": [
            "\u001b[0;31m---------------------------------------------------------------------------\u001b[0m",
            "\u001b[0;31mTypeError\u001b[0m                                 Traceback (most recent call last)",
            "\u001b[0;32m/tmp/ipython-input-3483503513.py\u001b[0m in \u001b[0;36m<cell line: 0>\u001b[0;34m()\u001b[0m\n\u001b[1;32m      1\u001b[0m \u001b[0mprofile\u001b[0m \u001b[0;34m=\u001b[0m \u001b[0;34m[\u001b[0m\u001b[0;34m'홍길동'\u001b[0m\u001b[0;34m,\u001b[0m\u001b[0;34m'남자'\u001b[0m\u001b[0;34m,\u001b[0m\u001b[0;36m18\u001b[0m\u001b[0;34m,\u001b[0m\u001b[0;34m'도적'\u001b[0m\u001b[0;34m,\u001b[0m\u001b[0;34m'초능력자'\u001b[0m\u001b[0;34m]\u001b[0m\u001b[0;34m\u001b[0m\u001b[0;34m\u001b[0m\u001b[0m\n\u001b[0;32m----> 2\u001b[0;31m \u001b[0mlogData\u001b[0m \u001b[0;34m=\u001b[0m \u001b[0;34m';'\u001b[0m\u001b[0;34m.\u001b[0m\u001b[0mjoin\u001b[0m\u001b[0;34m(\u001b[0m\u001b[0mprofile\u001b[0m\u001b[0;34m)\u001b[0m\u001b[0;34m\u001b[0m\u001b[0;34m\u001b[0m\u001b[0m\n\u001b[0m",
            "\u001b[0;31mTypeError\u001b[0m: sequence item 2: expected str instance, int found"
          ]
        }
      ]
    }
  ]
}