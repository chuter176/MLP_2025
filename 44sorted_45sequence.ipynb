{
  "nbformat": 4,
  "nbformat_minor": 0,
  "metadata": {
    "colab": {
      "provenance": [],
      "authorship_tag": "ABX9TyN5gY64C/JBYsMKgNB8Vald",
      "include_colab_link": true
    },
    "kernelspec": {
      "name": "python3",
      "display_name": "Python 3"
    },
    "language_info": {
      "name": "python"
    }
  },
  "cells": [
    {
      "cell_type": "markdown",
      "metadata": {
        "id": "view-in-github",
        "colab_type": "text"
      },
      "source": [
        "<a href=\"https://colab.research.google.com/github/chuter176/MLP_2025/blob/main/44sorted_45sequence.ipynb\" target=\"_parent\"><img src=\"https://colab.research.google.com/assets/colab-badge.svg\" alt=\"Open In Colab\"/></a>"
      ]
    },
    {
      "cell_type": "markdown",
      "source": [
        "sorted"
      ],
      "metadata": {
        "id": "ZpEmqdrzmcWH"
      }
    },
    {
      "cell_type": "code",
      "execution_count": null,
      "metadata": {
        "colab": {
          "base_uri": "https://localhost:8080/"
        },
        "id": "Ga6REqS4mbef",
        "outputId": "7da6a8a8-edf9-4c33-b8f5-41f566feadcd"
      },
      "outputs": [
        {
          "output_type": "stream",
          "name": "stdout",
          "text": [
            "[1, 8, 27, 39, 42, 44]\n",
            "[44, 42, 39, 27, 8, 1]\n",
            "[42, 1, 39, 27, 44, 8]\n"
          ]
        }
      ],
      "source": [
        "listData = [42,1,39,27,44,8]\n",
        "ret1 = sorted(listData)\n",
        "ret2 = sorted(listData,reverse=True)\n",
        "print(ret1)\n",
        "print(ret2)\n",
        "print(listData)"
      ]
    },
    {
      "cell_type": "code",
      "source": [
        "tupleData = ('사과','배','오랜지','수박','참외')\n",
        "ret = sorted(tupleData)\n",
        "print(ret)"
      ],
      "metadata": {
        "colab": {
          "base_uri": "https://localhost:8080/"
        },
        "id": "5ViASp-YnAmk",
        "outputId": "f1612c53-d8d2-4c7e-8daf-e6402a683917"
      },
      "execution_count": null,
      "outputs": [
        {
          "output_type": "stream",
          "name": "stdout",
          "text": [
            "['배', '사과', '수박', '오랜지', '참외']\n"
          ]
        }
      ]
    },
    {
      "cell_type": "code",
      "source": [
        "strData = 'I love python!'\n",
        "ret = sorted(strData)\n",
        "print(ret)"
      ],
      "metadata": {
        "colab": {
          "base_uri": "https://localhost:8080/"
        },
        "id": "Ci-caa8PnOJ8",
        "outputId": "daede85d-d20d-4f14-994d-177427af1251"
      },
      "execution_count": null,
      "outputs": [
        {
          "output_type": "stream",
          "name": "stdout",
          "text": [
            "[' ', ' ', '!', 'I', 'e', 'h', 'l', 'n', 'o', 'o', 'p', 't', 'v', 'y']\n"
          ]
        }
      ]
    },
    {
      "cell_type": "code",
      "source": [
        "population = {'김씨':2834,'이씨':2288,'박씨':189}\n",
        "ret = sorted(population)\n",
        "print(ret)"
      ],
      "metadata": {
        "colab": {
          "base_uri": "https://localhost:8080/"
        },
        "id": "1_5dzh0rnY7i",
        "outputId": "e794aece-c60c-457f-fbb5-78b0e96e20ca"
      },
      "execution_count": null,
      "outputs": [
        {
          "output_type": "stream",
          "name": "stdout",
          "text": [
            "['김씨', '박씨', '이씨']\n"
          ]
        }
      ]
    },
    {
      "cell_type": "markdown",
      "source": [
        "sequence"
      ],
      "metadata": {
        "id": "NZGmqT1rnsOz"
      }
    },
    {
      "cell_type": "code",
      "source": [
        "listData = [1,2,3,4,5]"
      ],
      "metadata": {
        "id": "tINkrA4mM076"
      },
      "execution_count": null,
      "outputs": []
    },
    {
      "cell_type": "code",
      "source": [
        "tupleData = (1,2,3,4,5)"
      ],
      "metadata": {
        "id": "SLM-FlM_M8Ry"
      },
      "execution_count": null,
      "outputs": []
    },
    {
      "cell_type": "code",
      "source": [
        "strData1 = '010-1234-5678'\n",
        "strData2 = \"사랑쌔요 파이썬\"\n",
        "strData3 = 'I love python'"
      ],
      "metadata": {
        "id": "zuS1XofYNSaC"
      },
      "execution_count": null,
      "outputs": []
    },
    {
      "cell_type": "code",
      "source": [
        "bstr = b'Hello python!'"
      ],
      "metadata": {
        "id": "Zl2m1gLFNmf6"
      },
      "execution_count": null,
      "outputs": []
    }
  ]
}