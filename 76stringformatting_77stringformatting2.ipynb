{
  "nbformat": 4,
  "nbformat_minor": 0,
  "metadata": {
    "colab": {
      "provenance": [],
      "authorship_tag": "ABX9TyMkTBJRoUS1HNt1rjUHD4vn",
      "include_colab_link": true
    },
    "kernelspec": {
      "name": "python3",
      "display_name": "Python 3"
    },
    "language_info": {
      "name": "python"
    }
  },
  "cells": [
    {
      "cell_type": "markdown",
      "metadata": {
        "id": "view-in-github",
        "colab_type": "text"
      },
      "source": [
        "<a href=\"https://colab.research.google.com/github/chuter176/MLP_2025/blob/main/76stringformatting_77stringformatting2.ipynb\" target=\"_parent\"><img src=\"https://colab.research.google.com/assets/colab-badge.svg\" alt=\"Open In Colab\"/></a>"
      ]
    },
    {
      "cell_type": "markdown",
      "source": [
        "string formatting"
      ],
      "metadata": {
        "id": "9-fdwYaqEh2r"
      }
    },
    {
      "cell_type": "code",
      "execution_count": 2,
      "metadata": {
        "colab": {
          "base_uri": "https://localhost:8080/"
        },
        "id": "pe0duvItEhA6",
        "outputId": "6b6a3d9d-18dc-4adb-8629-2872e391158f"
      },
      "outputs": [
        {
          "output_type": "stream",
          "name": "stdout",
          "text": [
            "원주율의 근사값은 3.141592 입니다.\n"
          ]
        }
      ],
      "source": [
        "title = '원주율'\n",
        "pi = 3.141592\n",
        "print(f'{title}의 근사값은 {pi} 입니다.')"
      ]
    },
    {
      "cell_type": "code",
      "source": [
        "print(f'{title}의 근사값은 {pi:2f} 입니다.')"
      ],
      "metadata": {
        "colab": {
          "base_uri": "https://localhost:8080/"
        },
        "id": "wAP-59DrE6mC",
        "outputId": "2cb80351-bdfe-4eeb-e490-6fb0848e0231"
      },
      "execution_count": 4,
      "outputs": [
        {
          "output_type": "stream",
          "name": "stdout",
          "text": [
            "원주율의 근사값은 3.141592 입니다.\n"
          ]
        }
      ]
    },
    {
      "cell_type": "code",
      "source": [
        "city = '서울'\n",
        "population = 8789911\n",
        "print(f'{city}: {population:,d}명')"
      ],
      "metadata": {
        "colab": {
          "base_uri": "https://localhost:8080/"
        },
        "id": "B2ADDZeoFIih",
        "outputId": "4646ee43-a36a-414f-b341-da5b0f04095d"
      },
      "execution_count": 5,
      "outputs": [
        {
          "output_type": "stream",
          "name": "stdout",
          "text": [
            "서울: 8,789,911명\n"
          ]
        }
      ]
    },
    {
      "cell_type": "code",
      "source": [
        "print(f'{city}: {population=:,d}명')"
      ],
      "metadata": {
        "colab": {
          "base_uri": "https://localhost:8080/"
        },
        "id": "H16FWpTdFZeS",
        "outputId": "b0274d34-7ae2-4526-f5c1-bb3628bceb77"
      },
      "execution_count": 6,
      "outputs": [
        {
          "output_type": "stream",
          "name": "stdout",
          "text": [
            "서울: population=8,789,911명\n"
          ]
        }
      ]
    },
    {
      "cell_type": "markdown",
      "source": [
        "string formatting2"
      ],
      "metadata": {
        "id": "TPvi_fx-FotC"
      }
    },
    {
      "cell_type": "code",
      "source": [
        "pi = 3.141592\n",
        "text = ('{}의 근사값은 {} 입니다.'.format('원주율',pi))\n",
        "print(text)"
      ],
      "metadata": {
        "colab": {
          "base_uri": "https://localhost:8080/"
        },
        "id": "8SyA_DO5Fk26",
        "outputId": "3dfb3361-095b-4638-ffe3-b7bba4ccd7e6"
      },
      "execution_count": 8,
      "outputs": [
        {
          "output_type": "stream",
          "name": "stdout",
          "text": [
            "원주율의 근사값은 3.141592 입니다.\n"
          ]
        }
      ]
    },
    {
      "cell_type": "code",
      "source": [
        "print('{}의 근사값은 {:.2f} 입니다.'.format('원주율',pi))"
      ],
      "metadata": {
        "colab": {
          "base_uri": "https://localhost:8080/"
        },
        "id": "t3l__5IbF8cp",
        "outputId": "6c607f9e-9302-4f60-f0d3-fe8861fb84a5"
      },
      "execution_count": 13,
      "outputs": [
        {
          "output_type": "stream",
          "name": "stdout",
          "text": [
            "원주율의 근사값은 3.14 입니다.\n"
          ]
        }
      ]
    },
    {
      "cell_type": "code",
      "source": [
        "population = 8789911\n",
        "text = '{}:{:,d}명'.format('서울',population)\n",
        "print(text)"
      ],
      "metadata": {
        "colab": {
          "base_uri": "https://localhost:8080/"
        },
        "id": "1kBL-u7nF8bH",
        "outputId": "c46d97c8-21a6-429d-ddad-eacfabb5938f"
      },
      "execution_count": 14,
      "outputs": [
        {
          "output_type": "stream",
          "name": "stdout",
          "text": [
            "서울:8,789,911명\n"
          ]
        }
      ]
    }
  ]
}