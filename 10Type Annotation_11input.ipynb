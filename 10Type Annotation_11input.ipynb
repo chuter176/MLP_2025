{
  "nbformat": 4,
  "nbformat_minor": 0,
  "metadata": {
    "colab": {
      "provenance": [],
      "authorship_tag": "ABX9TyPiUBSadwv1kIWWKBDikNvI",
      "include_colab_link": true
    },
    "kernelspec": {
      "name": "python3",
      "display_name": "Python 3"
    },
    "language_info": {
      "name": "python"
    }
  },
  "cells": [
    {
      "cell_type": "markdown",
      "metadata": {
        "id": "view-in-github",
        "colab_type": "text"
      },
      "source": [
        "<a href=\"https://colab.research.google.com/github/chuter176/MLP_2025/blob/main/10Type%20Annotation_11input.ipynb\" target=\"_parent\"><img src=\"https://colab.research.google.com/assets/colab-badge.svg\" alt=\"Open In Colab\"/></a>"
      ]
    },
    {
      "cell_type": "markdown",
      "source": [
        "Type Annotation"
      ],
      "metadata": {
        "id": "mMqYuMKYcJ3k"
      }
    },
    {
      "cell_type": "code",
      "execution_count": null,
      "metadata": {
        "id": "Sd4uTS3EcFPL"
      },
      "outputs": [],
      "source": [
        "name = '홍길동'\n",
        "age = 17\n",
        "weight = 70.7\n",
        "is_badman = False"
      ]
    },
    {
      "cell_type": "code",
      "source": [
        "name: str = '홍길동'\n",
        "age: int = 17\n",
        "weight: float = 70.7\n",
        "is_badman: bool = False"
      ],
      "metadata": {
        "id": "oRVvSJkuckSs"
      },
      "execution_count": null,
      "outputs": []
    },
    {
      "cell_type": "code",
      "source": [
        "booklist: list[str] = ['삼국지','수호자','초한지']"
      ],
      "metadata": {
        "id": "yvZBJRmqc2fL"
      },
      "execution_count": null,
      "outputs": []
    },
    {
      "cell_type": "code",
      "source": [
        "island: tuple[str,float,float] = ('독도',131.52,37.14)"
      ],
      "metadata": {
        "id": "8iP1eg-1dDLE"
      },
      "execution_count": null,
      "outputs": []
    },
    {
      "cell_type": "code",
      "source": [
        "top4_familyname:dict[str,int] = {'김씨':123456,'나씨':345811,'박씨':963123,'이씨':865909}"
      ],
      "metadata": {
        "id": "SZ1NLGDFdRvv"
      },
      "execution_count": null,
      "outputs": []
    },
    {
      "cell_type": "code",
      "source": [
        "fruits: set[str] = {'사과','배','수박','참외','딸기'}"
      ],
      "metadata": {
        "id": "DixOJCYxdxWk"
      },
      "execution_count": null,
      "outputs": []
    },
    {
      "cell_type": "code",
      "source": [
        "print(__annotations__)"
      ],
      "metadata": {
        "colab": {
          "base_uri": "https://localhost:8080/"
        },
        "id": "ILn13wzLeIOE",
        "outputId": "62d321e4-c772-400b-82b4-c62941733aa8"
      },
      "execution_count": null,
      "outputs": [
        {
          "output_type": "stream",
          "name": "stdout",
          "text": [
            "{'name': <class 'str'>, 'age': <class 'int'>, 'weight': <class 'float'>, 'is_badman': <class 'bool'>, 'booklist': list[str], 'island': tuple[str, float, float], 'top4_familyname': dict[str, int], 'fruits': set[str]}\n"
          ]
        }
      ]
    },
    {
      "cell_type": "code",
      "source": [
        "fruits: set[str] = {'사과','배','수박','참외','딸기'}\n",
        "fruits = {1,2,3,4,5}\n",
        "print(fruits)"
      ],
      "metadata": {
        "colab": {
          "base_uri": "https://localhost:8080/"
        },
        "id": "_c3bLRyqedG8",
        "outputId": "ee99b6e8-40a5-47a4-9270-df357617bfb1"
      },
      "execution_count": null,
      "outputs": [
        {
          "output_type": "stream",
          "name": "stdout",
          "text": [
            "{1, 2, 3, 4, 5}\n"
          ]
        }
      ]
    },
    {
      "cell_type": "markdown",
      "source": [
        "input"
      ],
      "metadata": {
        "id": "KQhjjiJKfEys"
      }
    },
    {
      "cell_type": "code",
      "source": [
        "userInput = input()\n",
        "print('사용자가 입력한 값은<'+ userInput +'>입니다.')"
      ],
      "metadata": {
        "colab": {
          "base_uri": "https://localhost:8080/"
        },
        "id": "OmyM9OQifEek",
        "outputId": "7ea4fdc0-1c08-4d59-e767-b45472486001"
      },
      "execution_count": null,
      "outputs": [
        {
          "output_type": "stream",
          "name": "stdout",
          "text": [
            "10\n",
            "사용자가 입력한 값은<10>입니다.\n"
          ]
        }
      ]
    },
    {
      "cell_type": "code",
      "source": [
        "userInput = input('값을 입력하세요:')\n",
        "print('사용자가 입력한 값은<' +userInput+ '>입니다.')"
      ],
      "metadata": {
        "colab": {
          "base_uri": "https://localhost:8080/"
        },
        "id": "WjZQAFwFgIF1",
        "outputId": "140cb669-d56a-4ddf-d4f9-4dc01ceba174"
      },
      "execution_count": null,
      "outputs": [
        {
          "output_type": "stream",
          "name": "stdout",
          "text": [
            "값을 입력하세요:yes\n",
            "사용자가 입력한 값은<yes>입니다.\n"
          ]
        }
      ]
    }
  ]
}