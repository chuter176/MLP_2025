{
  "nbformat": 4,
  "nbformat_minor": 0,
  "metadata": {
    "colab": {
      "provenance": [],
      "authorship_tag": "ABX9TyOmHsVcUPDpc0TDhcV7QnC8",
      "include_colab_link": true
    },
    "kernelspec": {
      "name": "python3",
      "display_name": "Python 3"
    },
    "language_info": {
      "name": "python"
    }
  },
  "cells": [
    {
      "cell_type": "markdown",
      "metadata": {
        "id": "view-in-github",
        "colab_type": "text"
      },
      "source": [
        "<a href=\"https://colab.research.google.com/github/chuter176/MLP_2025/blob/main/72unicode_73ord.ipynb\" target=\"_parent\"><img src=\"https://colab.research.google.com/assets/colab-badge.svg\" alt=\"Open In Colab\"/></a>"
      ]
    },
    {
      "cell_type": "markdown",
      "source": [
        "unicode"
      ],
      "metadata": {
        "id": "qD4qBhDS8LRE"
      }
    },
    {
      "cell_type": "code",
      "execution_count": 1,
      "metadata": {
        "id": "sB_8sh7x8Kl3"
      },
      "outputs": [],
      "source": [
        "strData1 = 'I love python!'      #유니코드 문자열\n",
        "strData2 = \"사랑해요 파이썬\"     #유니코드 문자열\n",
        "strData3 = \"\"\"A lot of things\n",
        "occur each day.\"\"\""
      ]
    },
    {
      "cell_type": "markdown",
      "source": [
        "ord"
      ],
      "metadata": {
        "id": "7oE79oru8tt-"
      }
    },
    {
      "cell_type": "code",
      "source": [
        "while True:\n",
        "  ch = input('문자 1개를 입력하세요[끝내려면 엔터를 치세요]:')\n",
        "  if len(ch) == 0:\n",
        "    break\n",
        "  ch = ch[0]\n",
        "  code = ord(ch)\n",
        "  print(f'-->문자\"{ch}\"의 코드값:{hex(code)}')"
      ],
      "metadata": {
        "colab": {
          "base_uri": "https://localhost:8080/"
        },
        "id": "2grR8Yjk8vd2",
        "outputId": "b3957672-d9f6-4f68-88a7-ccc94867ef92"
      },
      "execution_count": 2,
      "outputs": [
        {
          "name": "stdout",
          "output_type": "stream",
          "text": [
            "문자 1개를 입력하세요[끝내려면 엔터를 치세요]:A\n",
            "-->문자\"A\"의 코드값:0x41\n",
            "문자 1개를 입력하세요[끝내려면 엔터를 치세요]:가\n",
            "-->문자\"가\"의 코드값:0xac00\n",
            "문자 1개를 입력하세요[끝내려면 엔터를 치세요]:@\n",
            "-->문자\"@\"의 코드값:0x40\n",
            "문자 1개를 입력하세요[끝내려면 엔터를 치세요]:s\n",
            "-->문자\"s\"의 코드값:0x73\n",
            "문자 1개를 입력하세요[끝내려면 엔터를 치세요]:미\n",
            "-->문자\"미\"의 코드값:0xbbf8\n",
            "문자 1개를 입력하세요[끝내려면 엔터를 치세요]:\n"
          ]
        }
      ]
    }
  ]
}