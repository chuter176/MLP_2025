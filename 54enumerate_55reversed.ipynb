{
  "nbformat": 4,
  "nbformat_minor": 0,
  "metadata": {
    "colab": {
      "provenance": [],
      "authorship_tag": "ABX9TyPe4Dl1ug86bHZnUxShjsaR",
      "include_colab_link": true
    },
    "kernelspec": {
      "name": "python3",
      "display_name": "Python 3"
    },
    "language_info": {
      "name": "python"
    }
  },
  "cells": [
    {
      "cell_type": "markdown",
      "metadata": {
        "id": "view-in-github",
        "colab_type": "text"
      },
      "source": [
        "<a href=\"https://colab.research.google.com/github/chuter176/MLP_2025/blob/main/54enumerate_55reversed.ipynb\" target=\"_parent\"><img src=\"https://colab.research.google.com/assets/colab-badge.svg\" alt=\"Open In Colab\"/></a>"
      ]
    },
    {
      "cell_type": "markdown",
      "source": [
        "enumerate"
      ],
      "metadata": {
        "id": "bm5YY89kbGji"
      }
    },
    {
      "cell_type": "code",
      "execution_count": 2,
      "metadata": {
        "colab": {
          "base_uri": "https://localhost:8080/"
        },
        "id": "FSFqsWYQSVt_",
        "outputId": "b01ec563-921a-494a-a821-62e3973cfc1b"
      },
      "outputs": [
        {
          "output_type": "stream",
          "name": "stdout",
          "text": [
            "태양계의 0번쩨 천제:태양\n",
            "태양계의 1번쩨 천제:수성\n",
            "태양계의 2번쩨 천제:금성\n",
            "태양계의 3번쩨 천제:지구\n",
            "태양계의 4번쩨 천제:화성\n",
            "태양계의 5번쩨 천제:목성\n",
            "태양계의 6번쩨 천제:토성\n",
            "태양계의 7번쩨 천제:천왕성\n",
            "태양계의 8번쩨 천제:해왕성\n"
          ]
        }
      ],
      "source": [
        "solarsys = ['태양','수성','금성','지구','화성','목성','토성','천왕성','해왕성']\n",
        "for i, body in enumerate(solarsys):\n",
        "  print(f'태양계의 {i}번쩨 천제:{body}')"
      ]
    },
    {
      "cell_type": "code",
      "source": [
        "seasons = ['봄','여름','가을','겨울']\n",
        "print(list(enumerate(seasons,start=1)))\n"
      ],
      "metadata": {
        "colab": {
          "base_uri": "https://localhost:8080/"
        },
        "id": "x4VPawOViwQm",
        "outputId": "633656f3-cdbe-4ee5-b398-b533a4775cdc"
      },
      "execution_count": 14,
      "outputs": [
        {
          "output_type": "stream",
          "name": "stdout",
          "text": [
            "[(1, '봄'), (2, '여름'), (3, '가을'), (4, '겨울')]\n"
          ]
        }
      ]
    },
    {
      "cell_type": "code",
      "source": [
        "#enumerate()를 구현한 제너레이터\n",
        "def myEnumerate(iterable,start=0):\n",
        "  n = start\n",
        "  for item in iterable:\n",
        "    yield (n,item)\n",
        "    n += 1"
      ],
      "metadata": {
        "id": "jwlrxRsclW6V"
      },
      "execution_count": 4,
      "outputs": []
    },
    {
      "cell_type": "code",
      "source": [
        "print(list(myEnumerate(seasons,start=1)))"
      ],
      "metadata": {
        "colab": {
          "base_uri": "https://localhost:8080/"
        },
        "id": "OaC2dIGsltu2",
        "outputId": "7f3f2225-8681-40a0-a56b-d92b47978c29"
      },
      "execution_count": 15,
      "outputs": [
        {
          "output_type": "stream",
          "name": "stdout",
          "text": [
            "[(1, '봄'), (2, '여름'), (3, '가을'), (4, '겨울')]\n"
          ]
        }
      ]
    },
    {
      "cell_type": "markdown",
      "source": [
        "reversed"
      ],
      "metadata": {
        "id": "ZG6iYXgKnPBO"
      }
    },
    {
      "cell_type": "code",
      "source": [
        "fruits = ('사과','배','오랜지','수박')\n",
        "ret = reversed(fruits)\n",
        "print(list(ret))"
      ],
      "metadata": {
        "colab": {
          "base_uri": "https://localhost:8080/"
        },
        "id": "SNj5ydV2nOwo",
        "outputId": "1adbb18c-bbef-41d6-e2f3-a8bdbb723f9f"
      },
      "execution_count": 16,
      "outputs": [
        {
          "output_type": "stream",
          "name": "stdout",
          "text": [
            "['수박', '오랜지', '배', '사과']\n"
          ]
        }
      ]
    },
    {
      "cell_type": "code",
      "source": [
        "print(fruits)"
      ],
      "metadata": {
        "colab": {
          "base_uri": "https://localhost:8080/"
        },
        "id": "uXgPDCM3rPsG",
        "outputId": "173bc81b-ece5-49ba-f0c7-6c49c2d07ebb"
      },
      "execution_count": 18,
      "outputs": [
        {
          "output_type": "stream",
          "name": "stdout",
          "text": [
            "('사과', '배', '오랜지', '수박')\n"
          ]
        }
      ]
    },
    {
      "cell_type": "code",
      "source": [
        "for i in reversed(range(1,6)):\n",
        "  print(i)"
      ],
      "metadata": {
        "colab": {
          "base_uri": "https://localhost:8080/"
        },
        "id": "vjqpAANErVAE",
        "outputId": "92212f17-2218-4770-b555-4697b42b9c08"
      },
      "execution_count": 19,
      "outputs": [
        {
          "output_type": "stream",
          "name": "stdout",
          "text": [
            "5\n",
            "4\n",
            "3\n",
            "2\n",
            "1\n"
          ]
        }
      ]
    }
  ]
}