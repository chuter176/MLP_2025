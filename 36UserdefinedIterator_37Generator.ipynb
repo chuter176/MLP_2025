{
  "nbformat": 4,
  "nbformat_minor": 0,
  "metadata": {
    "colab": {
      "provenance": [],
      "authorship_tag": "ABX9TyNWhakltzjVu3XDINa6WRN8",
      "include_colab_link": true
    },
    "kernelspec": {
      "name": "python3",
      "display_name": "Python 3"
    },
    "language_info": {
      "name": "python"
    }
  },
  "cells": [
    {
      "cell_type": "markdown",
      "metadata": {
        "id": "view-in-github",
        "colab_type": "text"
      },
      "source": [
        "<a href=\"https://colab.research.google.com/github/chuter176/MLP_2025/blob/main/36UserdefinedIterator_37Generator.ipynb\" target=\"_parent\"><img src=\"https://colab.research.google.com/assets/colab-badge.svg\" alt=\"Open In Colab\"/></a>"
      ]
    },
    {
      "cell_type": "markdown",
      "source": [
        "UserdefinedIterator"
      ],
      "metadata": {
        "id": "Vs6bfc9y2ueB"
      }
    },
    {
      "cell_type": "code",
      "execution_count": 6,
      "metadata": {
        "colab": {
          "base_uri": "https://localhost:8080/"
        },
        "id": "ufP4KdJg1WRh",
        "outputId": "7ac2cc0c-63bb-4a32-f6fd-5c9fdea5512d"
      },
      "outputs": [
        {
          "output_type": "stream",
          "name": "stdout",
          "text": [
            "01234"
          ]
        }
      ],
      "source": [
        "class MyRange:\n",
        "  def __init__(self,n):\n",
        "    self.maxn = n\n",
        "    self.current = 0\n",
        "\n",
        "  def __iter__(self):\n",
        "    return self\n",
        "\n",
        "  def __next__(self):\n",
        "    if self.current >= self.maxn:\n",
        "      raise StopIteration\n",
        "    else:\n",
        "      ret = self.current\n",
        "      self.current += 1\n",
        "      return ret\n",
        "\n",
        "intList = MyRange(5)\n",
        "for i in intList:\n",
        "  print(i,end='')\n"
      ]
    },
    {
      "cell_type": "markdown",
      "source": [
        "Generator"
      ],
      "metadata": {
        "id": "gIsbZTPU52ym"
      }
    },
    {
      "cell_type": "code",
      "source": [
        "def MyRange(n):\n",
        "  current = 0\n",
        "  while current < m:\n",
        "    yield currentcurrent += 1\n",
        "\n",
        "#제너레이터 객체 생성\n",
        "intList = MyRange (5)\n",
        "for i in intList:\n",
        "  print(i,end='')"
      ],
      "metadata": {
        "id": "OSKiqYMH5bvq"
      },
      "execution_count": null,
      "outputs": []
    }
  ]
}