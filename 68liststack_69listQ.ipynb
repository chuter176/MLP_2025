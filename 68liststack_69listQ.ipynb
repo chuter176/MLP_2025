{
  "nbformat": 4,
  "nbformat_minor": 0,
  "metadata": {
    "colab": {
      "provenance": [],
      "authorship_tag": "ABX9TyOEBRjc7VCzwYEIOlEW4T1h",
      "include_colab_link": true
    },
    "kernelspec": {
      "name": "python3",
      "display_name": "Python 3"
    },
    "language_info": {
      "name": "python"
    }
  },
  "cells": [
    {
      "cell_type": "markdown",
      "metadata": {
        "id": "view-in-github",
        "colab_type": "text"
      },
      "source": [
        "<a href=\"https://colab.research.google.com/github/chuter176/MLP_2025/blob/main/68liststack_69listQ.ipynb\" target=\"_parent\"><img src=\"https://colab.research.google.com/assets/colab-badge.svg\" alt=\"Open In Colab\"/></a>"
      ]
    },
    {
      "cell_type": "markdown",
      "source": [
        "list stack"
      ],
      "metadata": {
        "id": "NyaZn0Y62t5w"
      }
    },
    {
      "cell_type": "code",
      "execution_count": 1,
      "metadata": {
        "id": "qxk0JJya2nKu"
      },
      "outputs": [],
      "source": [
        "mystack = []"
      ]
    },
    {
      "cell_type": "code",
      "source": [
        "def putData(data):\n",
        "  mystack.append(data)"
      ],
      "metadata": {
        "id": "0_7CwZno2zTO"
      },
      "execution_count": 2,
      "outputs": []
    },
    {
      "cell_type": "code",
      "source": [
        "def popData():\n",
        "  if len(mystack) == 0:\n",
        "    return None\n",
        "  return mystack.pop()"
      ],
      "metadata": {
        "id": "zgaj6EZI27ne"
      },
      "execution_count": 3,
      "outputs": []
    },
    {
      "cell_type": "code",
      "source": [
        "putData('사과')\n",
        "putData([1,2,3])\n",
        "putData(3.141592)\n",
        "print(f'스택상태:{mystack}')\n"
      ],
      "metadata": {
        "colab": {
          "base_uri": "https://localhost:8080/"
        },
        "id": "OZx1KX953I3J",
        "outputId": "69fc78ec-7a8f-4c7c-93c2-55abf63d81b2"
      },
      "execution_count": 4,
      "outputs": [
        {
          "output_type": "stream",
          "name": "stdout",
          "text": [
            "스택상태:['사과', [1, 2, 3], 3.141592]\n"
          ]
        }
      ]
    },
    {
      "cell_type": "code",
      "source": [
        "ret = popData()\n",
        "while ret != None:\n",
        "  print(f'스택에서 데이터 추출:{ret}')\n",
        "  print(f'스택상태:{mystack}')\n",
        "  print('-----------')\n",
        "  ret = popData()"
      ],
      "metadata": {
        "colab": {
          "base_uri": "https://localhost:8080/"
        },
        "id": "WBO3R1Jt3YnN",
        "outputId": "782f72c7-f274-43e8-c74c-42b0b4dd2133"
      },
      "execution_count": 5,
      "outputs": [
        {
          "output_type": "stream",
          "name": "stdout",
          "text": [
            "스택에서 데이터 추출:3.141592\n",
            "스택상태:['사과', [1, 2, 3]]\n",
            "-----------\n",
            "스택에서 데이터 추출:[1, 2, 3]\n",
            "스택상태:['사과']\n",
            "-----------\n",
            "스택에서 데이터 추출:사과\n",
            "스택상태:[]\n",
            "-----------\n"
          ]
        }
      ]
    },
    {
      "cell_type": "markdown",
      "source": [
        "listQ"
      ],
      "metadata": {
        "id": "PcImsDn9336t"
      }
    },
    {
      "cell_type": "code",
      "source": [
        "import collections\n",
        "myqueue = collections.deque([])"
      ],
      "metadata": {
        "id": "WZLfE0Ck35Xb"
      },
      "execution_count": 6,
      "outputs": []
    },
    {
      "cell_type": "code",
      "source": [
        "def putData(data):\n",
        "  myqueue.append(data)"
      ],
      "metadata": {
        "id": "jxI-zu5r4FxX"
      },
      "execution_count": 7,
      "outputs": []
    },
    {
      "cell_type": "code",
      "source": [
        "def popData():\n",
        "  if len(myqueue) == 0:\n",
        "    return None\n",
        "  return myqueue.popleft()"
      ],
      "metadata": {
        "id": "mhe1c-rw4Qud"
      },
      "execution_count": 8,
      "outputs": []
    },
    {
      "cell_type": "code",
      "source": [
        "putData('사과')\n",
        "putData([1,2,3])\n",
        "putData(3.141592)\n",
        "print(f'큐상태:{myqueue}')"
      ],
      "metadata": {
        "colab": {
          "base_uri": "https://localhost:8080/"
        },
        "id": "_v961Wcg4dLF",
        "outputId": "77ac18a9-eacc-4aac-b243-16b576760f2e"
      },
      "execution_count": 9,
      "outputs": [
        {
          "output_type": "stream",
          "name": "stdout",
          "text": [
            "큐상태:deque(['사과', [1, 2, 3], 3.141592])\n"
          ]
        }
      ]
    },
    {
      "cell_type": "code",
      "source": [
        "ret = popData()\n",
        "while ret !=None:\n",
        "  print(f'큐에서 데이터 추출')\n",
        "  print(f'큐상태:{myqueue}')\n",
        "  print('-----------')\n",
        "  ret = popData()\n"
      ],
      "metadata": {
        "colab": {
          "base_uri": "https://localhost:8080/"
        },
        "id": "CFJg8nDe4qUN",
        "outputId": "c19ea740-690a-47c4-8230-2756f1c6bf1a"
      },
      "execution_count": 10,
      "outputs": [
        {
          "output_type": "stream",
          "name": "stdout",
          "text": [
            "큐에서 데이터 추출\n",
            "큐상태:deque([[1, 2, 3], 3.141592])\n",
            "-----------\n",
            "큐에서 데이터 추출\n",
            "큐상태:deque([3.141592])\n",
            "-----------\n",
            "큐에서 데이터 추출\n",
            "큐상태:deque([])\n",
            "-----------\n"
          ]
        }
      ]
    }
  ]
}