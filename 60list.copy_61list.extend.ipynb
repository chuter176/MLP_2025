{
  "nbformat": 4,
  "nbformat_minor": 0,
  "metadata": {
    "colab": {
      "provenance": [],
      "authorship_tag": "ABX9TyMtzybCQKuG6AJVJVZ5Q+VC",
      "include_colab_link": true
    },
    "kernelspec": {
      "name": "python3",
      "display_name": "Python 3"
    },
    "language_info": {
      "name": "python"
    }
  },
  "cells": [
    {
      "cell_type": "markdown",
      "metadata": {
        "id": "view-in-github",
        "colab_type": "text"
      },
      "source": [
        "<a href=\"https://colab.research.google.com/github/chuter176/MLP_2025/blob/main/60list.copy_61list.extend.ipynb\" target=\"_parent\"><img src=\"https://colab.research.google.com/assets/colab-badge.svg\" alt=\"Open In Colab\"/></a>"
      ]
    },
    {
      "cell_type": "markdown",
      "source": [
        "list.copy"
      ],
      "metadata": {
        "id": "4cWVsvBA9hl1"
      }
    },
    {
      "cell_type": "code",
      "execution_count": 1,
      "metadata": {
        "colab": {
          "base_uri": "https://localhost:8080/"
        },
        "id": "iTAyTwhc9MbG",
        "outputId": "3396ee7e-c5ae-4f96-f528-44b89a177ad2"
      },
      "outputs": [
        {
          "output_type": "stream",
          "name": "stdout",
          "text": [
            "원본 리스트:['사과', '배', '오랜지', '수박', '참외']\n",
            "복사본 리스트:['사과', '배', '오랜지', '수박']\n"
          ]
        }
      ],
      "source": [
        "fruits = ['사과','배','오랜지','수박','참외']\n",
        "buffer = fruits.copy()\n",
        "del buffer[-1]\n",
        "print(f'원본 리스트:{fruits}')\n",
        "print(f'복사본 리스트:{buffer}')"
      ]
    },
    {
      "cell_type": "markdown",
      "source": [
        "list.extend"
      ],
      "metadata": {
        "id": "L2YMAzcJ9lzL"
      }
    },
    {
      "cell_type": "code",
      "source": [
        "world = []\n",
        "asia = ['한국','중국','일본']\n",
        "europe = ['독일','프랑스','영국']\n",
        "america = ['미국','캐나다','맥시코']"
      ],
      "metadata": {
        "id": "l3z6ksAU9lZH"
      },
      "execution_count": 2,
      "outputs": []
    },
    {
      "cell_type": "code",
      "source": [
        "world.extend(asia)\n",
        "print(world)"
      ],
      "metadata": {
        "colab": {
          "base_uri": "https://localhost:8080/"
        },
        "id": "eeFvE6VG-DO4",
        "outputId": "d7450eff-d093-43cf-9dc8-0fbeefa71a4f"
      },
      "execution_count": 4,
      "outputs": [
        {
          "output_type": "stream",
          "name": "stdout",
          "text": [
            "['한국', '중국', '일본', '한국', '중국', '일본']\n"
          ]
        }
      ]
    },
    {
      "cell_type": "code",
      "source": [
        "world.extend(europe)\n",
        "print(world)\n",
        "world.extend(america)\n",
        "print(world)"
      ],
      "metadata": {
        "colab": {
          "base_uri": "https://localhost:8080/"
        },
        "id": "5F4yTGIW-R9e",
        "outputId": "c1cc8190-a4a9-4db3-9ce4-f939d239c556"
      },
      "execution_count": 6,
      "outputs": [
        {
          "output_type": "stream",
          "name": "stdout",
          "text": [
            "['한국', '중국', '일본', '한국', '중국', '일본', '독일', '프랑스', '영국', '독일', '프랑스', '영국']\n",
            "['한국', '중국', '일본', '한국', '중국', '일본', '독일', '프랑스', '영국', '독일', '프랑스', '영국', '미국', '캐나다', '맥시코']\n"
          ]
        }
      ]
    },
    {
      "cell_type": "code",
      "source": [
        "world.clear()\n",
        "world += asia\n",
        "world += europe\n",
        "print(world)"
      ],
      "metadata": {
        "colab": {
          "base_uri": "https://localhost:8080/"
        },
        "id": "llYK1TTM-fDJ",
        "outputId": "19992e4a-f5fd-4dd1-cdd6-ae31dd655a81"
      },
      "execution_count": 7,
      "outputs": [
        {
          "output_type": "stream",
          "name": "stdout",
          "text": [
            "['한국', '중국', '일본', '독일', '프랑스', '영국']\n"
          ]
        }
      ]
    }
  ]
}