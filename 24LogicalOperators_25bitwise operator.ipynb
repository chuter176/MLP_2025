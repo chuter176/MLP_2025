{
  "nbformat": 4,
  "nbformat_minor": 0,
  "metadata": {
    "colab": {
      "provenance": [],
      "authorship_tag": "ABX9TyMf8t6VZvZxOjGOnMecfck9",
      "include_colab_link": true
    },
    "kernelspec": {
      "name": "python3",
      "display_name": "Python 3"
    },
    "language_info": {
      "name": "python"
    }
  },
  "cells": [
    {
      "cell_type": "markdown",
      "metadata": {
        "id": "view-in-github",
        "colab_type": "text"
      },
      "source": [
        "<a href=\"https://colab.research.google.com/github/chuter176/MLP_2025/blob/main/24LogicalOperators_25bitwise%20operator.ipynb\" target=\"_parent\"><img src=\"https://colab.research.google.com/assets/colab-badge.svg\" alt=\"Open In Colab\"/></a>"
      ]
    },
    {
      "cell_type": "markdown",
      "source": [
        "Logical Operators"
      ],
      "metadata": {
        "id": "_feBgbmsRZd7"
      }
    },
    {
      "cell_type": "code",
      "execution_count": 3,
      "metadata": {
        "colab": {
          "base_uri": "https://localhost:8080/"
        },
        "id": "9UF5tkjERWtA",
        "outputId": "b01e6231-393f-4e98-ee88-fcedd17c74d1"
      },
      "outputs": [
        {
          "output_type": "stream",
          "name": "stdout",
          "text": [
            "False\n",
            "True\n",
            "True\n",
            "False\n",
            "True\n",
            "False\n"
          ]
        }
      ],
      "source": [
        "x = 1; y = 2\n",
        "strData1 = 'Hello'; strData2 = 'python'\n",
        "flag1 = x == y                            #Flase\n",
        "flag2 = x < y                             #True\n",
        "flag3 = strData1 != strData2              #True\n",
        "flag4 = strData1 > strData2                #Flase\n",
        "\n",
        "print(flag1 and flag2)\n",
        "print(flag2 and flag3)\n",
        "print(flag3 or flag4)\n",
        "print(flag1 or flag4)\n",
        "print(not flag1)\n",
        "print(not flag2)\n"
      ]
    },
    {
      "cell_type": "markdown",
      "source": [
        "bitwise operator"
      ],
      "metadata": {
        "id": "UIZ9X-CpStg0"
      }
    },
    {
      "cell_type": "code",
      "source": [
        "bit1 = 0x61; bit2 = 0x62\n",
        "print(hex(bit1 & bit2))\n",
        "print(hex(bit1 | bit2))\n",
        "print(hex(bit1 ^ bit2))\n",
        "print(hex(bit1>>1))\n",
        "print(hex(bit1<<2))"
      ],
      "metadata": {
        "colab": {
          "base_uri": "https://localhost:8080/"
        },
        "id": "lSwejY-_SxwL",
        "outputId": "2bbcf910-fffa-49ec-ab92-ce99d104861d"
      },
      "execution_count": 5,
      "outputs": [
        {
          "output_type": "stream",
          "name": "stdout",
          "text": [
            "0x60\n",
            "0x63\n",
            "0x3\n",
            "0x30\n",
            "0x184\n"
          ]
        }
      ]
    },
    {
      "cell_type": "code",
      "source": [
        "byte1 = 0x6b\n",
        "\n",
        "# 하위 4비트 추출\n",
        "lower_4bit = byte1 & 0x0f\n",
        "\n",
        "#상위 4비트 추출\n",
        "upper_4bit = (byte1 >> 4) & 0x0f\n",
        "\n",
        "print(hex(lower_4bit))\n",
        "print(hex(upper_4bit))"
      ],
      "metadata": {
        "colab": {
          "base_uri": "https://localhost:8080/"
        },
        "id": "WVBd_FrsVZdl",
        "outputId": "bb79eb51-6eb9-4a21-80e4-09289df2d1dc"
      },
      "execution_count": 6,
      "outputs": [
        {
          "output_type": "stream",
          "name": "stdout",
          "text": [
            "0xb\n",
            "0x6\n"
          ]
        }
      ]
    }
  ]
}