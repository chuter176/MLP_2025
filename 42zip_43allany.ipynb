{
  "nbformat": 4,
  "nbformat_minor": 0,
  "metadata": {
    "colab": {
      "provenance": [],
      "authorship_tag": "ABX9TyNuWTmQiadhgip+8pHt6KGc",
      "include_colab_link": true
    },
    "kernelspec": {
      "name": "python3",
      "display_name": "Python 3"
    },
    "language_info": {
      "name": "python"
    }
  },
  "cells": [
    {
      "cell_type": "markdown",
      "metadata": {
        "id": "view-in-github",
        "colab_type": "text"
      },
      "source": [
        "<a href=\"https://colab.research.google.com/github/chuter176/MLP_2025/blob/main/42zip_43allany.ipynb\" target=\"_parent\"><img src=\"https://colab.research.google.com/assets/colab-badge.svg\" alt=\"Open In Colab\"/></a>"
      ]
    },
    {
      "cell_type": "markdown",
      "source": [
        "zip"
      ],
      "metadata": {
        "id": "-g0udFVbisQS"
      }
    },
    {
      "cell_type": "code",
      "execution_count": 3,
      "metadata": {
        "colab": {
          "base_uri": "https://localhost:8080/"
        },
        "id": "pP5Xc9VRiEet",
        "outputId": "b8f5deef-33b6-4b2e-f8f0-a35843f8c88d"
      },
      "outputs": [
        {
          "output_type": "stream",
          "name": "stdout",
          "text": [
            "('슈퍼맨', '원더우먼')\n",
            "('심봉사', '빵덕어멈')\n",
            "('로미오', '줄리엣')\n",
            "('이몽룡', '성춘향')\n",
            "('미루치', '아라치')\n"
          ]
        }
      ],
      "source": [
        "male = ['슈퍼맨','심봉사','로미오','이몽룡','미루치']\n",
        "female = ['원더우먼','빵덕어멈','줄리엣','성춘향','아라치']\n",
        "couples = zip(male,female)\n",
        "for couple in couples:\n",
        "  print(couple)"
      ]
    },
    {
      "cell_type": "code",
      "source": [
        "male = ['슈퍼멘','심봉사','로미오']\n",
        "female = ['원더우먼','빵덕어멈','줄리엣','성춘향','아라치']\n",
        "for couple in zip(male,female):\n",
        "  print(couple)"
      ],
      "metadata": {
        "colab": {
          "base_uri": "https://localhost:8080/"
        },
        "id": "JTPNbGeajb1h",
        "outputId": "5b4c5acd-0033-47d7-bea4-b3b37c73e5ec"
      },
      "execution_count": 5,
      "outputs": [
        {
          "output_type": "stream",
          "name": "stdout",
          "text": [
            "('슈퍼멘', '원더우먼')\n",
            "('심봉사', '빵덕어멈')\n",
            "('로미오', '줄리엣')\n"
          ]
        }
      ]
    },
    {
      "cell_type": "code",
      "source": [
        "male = ['슈퍼맨','심봉사','로미오']\n",
        "female = ['원더우먼','빵덕이멈','줄리엣','심춘향','아라치']\n",
        "for couple in zip(male,female,strict=True):\n",
        "  print(couple)"
      ],
      "metadata": {
        "colab": {
          "base_uri": "https://localhost:8080/",
          "height": 257
        },
        "id": "AbbbLBVbktL3",
        "outputId": "faf4b850-97cf-46f4-cfa4-a65ed81d200d"
      },
      "execution_count": 7,
      "outputs": [
        {
          "output_type": "stream",
          "name": "stdout",
          "text": [
            "('슈퍼맨', '원더우먼')\n",
            "('심봉사', '빵덕이멈')\n",
            "('로미오', '줄리엣')\n"
          ]
        },
        {
          "output_type": "error",
          "ename": "ValueError",
          "evalue": "zip() argument 2 is longer than argument 1",
          "traceback": [
            "\u001b[0;31m---------------------------------------------------------------------------\u001b[0m",
            "\u001b[0;31mValueError\u001b[0m                                Traceback (most recent call last)",
            "\u001b[0;32m/tmp/ipython-input-1613194697.py\u001b[0m in \u001b[0;36m<cell line: 0>\u001b[0;34m()\u001b[0m\n\u001b[1;32m      1\u001b[0m \u001b[0mmale\u001b[0m \u001b[0;34m=\u001b[0m \u001b[0;34m[\u001b[0m\u001b[0;34m'슈퍼맨'\u001b[0m\u001b[0;34m,\u001b[0m\u001b[0;34m'심봉사'\u001b[0m\u001b[0;34m,\u001b[0m\u001b[0;34m'로미오'\u001b[0m\u001b[0;34m]\u001b[0m\u001b[0;34m\u001b[0m\u001b[0;34m\u001b[0m\u001b[0m\n\u001b[1;32m      2\u001b[0m \u001b[0mfemale\u001b[0m \u001b[0;34m=\u001b[0m \u001b[0;34m[\u001b[0m\u001b[0;34m'원더우먼'\u001b[0m\u001b[0;34m,\u001b[0m\u001b[0;34m'빵덕이멈'\u001b[0m\u001b[0;34m,\u001b[0m\u001b[0;34m'줄리엣'\u001b[0m\u001b[0;34m,\u001b[0m\u001b[0;34m'심춘향'\u001b[0m\u001b[0;34m,\u001b[0m\u001b[0;34m'아라치'\u001b[0m\u001b[0;34m]\u001b[0m\u001b[0;34m\u001b[0m\u001b[0;34m\u001b[0m\u001b[0m\n\u001b[0;32m----> 3\u001b[0;31m \u001b[0;32mfor\u001b[0m \u001b[0mcouple\u001b[0m \u001b[0;32min\u001b[0m \u001b[0mzip\u001b[0m\u001b[0;34m(\u001b[0m\u001b[0mmale\u001b[0m\u001b[0;34m,\u001b[0m\u001b[0mfemale\u001b[0m\u001b[0;34m,\u001b[0m\u001b[0mstrict\u001b[0m\u001b[0;34m=\u001b[0m\u001b[0;32mTrue\u001b[0m\u001b[0;34m)\u001b[0m\u001b[0;34m:\u001b[0m\u001b[0;34m\u001b[0m\u001b[0;34m\u001b[0m\u001b[0m\n\u001b[0m\u001b[1;32m      4\u001b[0m   \u001b[0mprint\u001b[0m\u001b[0;34m(\u001b[0m\u001b[0mcouple\u001b[0m\u001b[0;34m)\u001b[0m\u001b[0;34m\u001b[0m\u001b[0;34m\u001b[0m\u001b[0m\n",
            "\u001b[0;31mValueError\u001b[0m: zip() argument 2 is longer than argument 1"
          ]
        }
      ]
    },
    {
      "cell_type": "markdown",
      "source": [
        "allany"
      ],
      "metadata": {
        "id": "UdLBdciAltpV"
      }
    },
    {
      "cell_type": "code",
      "source": [
        "listData = [0,1,2,3,4]\n",
        "print(all(listData))\n",
        "print(any(listData))"
      ],
      "metadata": {
        "colab": {
          "base_uri": "https://localhost:8080/"
        },
        "id": "JWOptFy8lsja",
        "outputId": "60d3fa5b-4b32-42c4-a8bc-f14c99e902a5"
      },
      "execution_count": 8,
      "outputs": [
        {
          "output_type": "stream",
          "name": "stdout",
          "text": [
            "False\n",
            "True\n"
          ]
        }
      ]
    },
    {
      "cell_type": "code",
      "source": [
        "tupleData = (0,False,'',[],(),{},None)\n",
        "print(all(tupleData))\n",
        "print(any(tupleData))"
      ],
      "metadata": {
        "colab": {
          "base_uri": "https://localhost:8080/"
        },
        "id": "RFR23tMDl5Qj",
        "outputId": "db2b2d6b-f594-49c2-9a9b-d3c8c3fec585"
      },
      "execution_count": 9,
      "outputs": [
        {
          "output_type": "stream",
          "name": "stdout",
          "text": [
            "False\n",
            "False\n"
          ]
        }
      ]
    }
  ]
}