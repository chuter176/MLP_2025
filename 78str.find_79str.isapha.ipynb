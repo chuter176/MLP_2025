{
  "nbformat": 4,
  "nbformat_minor": 0,
  "metadata": {
    "colab": {
      "provenance": [],
      "authorship_tag": "ABX9TyM/U2q7mao4boI6fk1sTotm",
      "include_colab_link": true
    },
    "kernelspec": {
      "name": "python3",
      "display_name": "Python 3"
    },
    "language_info": {
      "name": "python"
    }
  },
  "cells": [
    {
      "cell_type": "markdown",
      "metadata": {
        "id": "view-in-github",
        "colab_type": "text"
      },
      "source": [
        "<a href=\"https://colab.research.google.com/github/chuter176/MLP_2025/blob/main/78str.find_79str.isapha.ipynb\" target=\"_parent\"><img src=\"https://colab.research.google.com/assets/colab-badge.svg\" alt=\"Open In Colab\"/></a>"
      ]
    },
    {
      "cell_type": "markdown",
      "source": [
        "str.find"
      ],
      "metadata": {
        "id": "sa54b8eoGmDf"
      }
    },
    {
      "cell_type": "code",
      "execution_count": 1,
      "metadata": {
        "colab": {
          "base_uri": "https://localhost:8080/",
          "height": 0
        },
        "id": "3tpd6Q_6GOHa",
        "outputId": "868c79b5-b3cb-4daa-8f8e-6d80173c957c"
      },
      "outputs": [
        {
          "output_type": "stream",
          "name": "stdout",
          "text": [
            "27\n"
          ]
        }
      ],
      "source": [
        "sample = 'A lot of things occur each day, it\\'s very dynamical every day.'\n",
        "pos = sample.find('day')\n",
        "print(pos)"
      ]
    },
    {
      "cell_type": "code",
      "source": [
        "spos = 0          #find()가 대상을 찾기 시작할 인덱스\n",
        "idx = 0           #대상이 위치하는 인덱스\n",
        "count = 1\n",
        "while idx != -1:\n",
        "  idx = sample.find('day',spos)\n",
        "  print(f':day\"가 발견된[{count}]번째 인덱스 {idx}')\n",
        "  spos = idx + 1     #find()가 대상을 찾기 시작할 인덱스 수정\n",
        "  count += 1\n"
      ],
      "metadata": {
        "colab": {
          "base_uri": "https://localhost:8080/"
        },
        "id": "a8mXvkhvITOQ",
        "outputId": "c5ff8ed0-426c-46e7-c409-6c6ac21616e3"
      },
      "execution_count": 2,
      "outputs": [
        {
          "output_type": "stream",
          "name": "stdout",
          "text": [
            ":day\"가 발견된[1]번째 인덱스 27\n",
            ":day\"가 발견된[2]번째 인덱스 58\n",
            ":day\"가 발견된[3]번째 인덱스 -1\n"
          ]
        }
      ]
    },
    {
      "cell_type": "markdown",
      "source": [
        "str.isalpha"
      ],
      "metadata": {
        "id": "PRTtvI-eJlaq"
      }
    },
    {
      "cell_type": "code",
      "source": [
        "strList = ['Hello','오징어게임','파이썬 lover','안녕!','제3세계']"
      ],
      "metadata": {
        "id": "zh-MsHPdJj0V"
      },
      "execution_count": 3,
      "outputs": []
    },
    {
      "cell_type": "code",
      "source": [
        "for text in strList:\n",
        "  print(f'\"{text}\" \\t--> {text.isalpha()}')"
      ],
      "metadata": {
        "colab": {
          "base_uri": "https://localhost:8080/"
        },
        "id": "_UNOW7c7J66b",
        "outputId": "49de7fe9-f4c7-49a0-e7df-167e6588916b"
      },
      "execution_count": 4,
      "outputs": [
        {
          "output_type": "stream",
          "name": "stdout",
          "text": [
            "\"Hello\" \t--> True\n",
            "\"오징어게임\" \t--> True\n",
            "\"파이썬 lover\" \t--> False\n",
            "\"안녕!\" \t--> False\n",
            "\"제3세계\" \t--> False\n"
          ]
        }
      ]
    }
  ]
}